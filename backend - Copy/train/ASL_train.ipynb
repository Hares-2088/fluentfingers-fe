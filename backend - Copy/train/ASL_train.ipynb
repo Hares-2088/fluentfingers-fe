{
  "cells": [
    {
      "cell_type": "code",
      "execution_count": null,
      "metadata": {
        "id": "oJH7Xg6GhClI"
      },
      "outputs": [],
      "source": [
        "!pip install --upgrade tensorflow"
      ]
    },
    {
      "cell_type": "code",
      "execution_count": null,
      "metadata": {
        "id": "sdy-x6R6hClJ",
        "outputId": "4b614c03-7b0e-4b4e-8847-735d78b124f0"
      },
      "outputs": [
        {
          "name": "stdout",
          "output_type": "stream",
          "text": [
            "2.15.0\n",
            "[PhysicalDevice(name='/physical_device:CPU:0', device_type='CPU'), PhysicalDevice(name='/physical_device:GPU:0', device_type='GPU')]\n"
          ]
        }
      ],
      "source": [
        "import tensorflow as tf\n",
        "print(tf.__version__)\n",
        "print(tf.config.list_physical_devices())\n"
      ]
    },
    {
      "cell_type": "markdown",
      "metadata": {
        "id": "6JvNUURdhClJ"
      },
      "source": [
        "Import Dependencies"
      ]
    },
    {
      "cell_type": "code",
      "execution_count": null,
      "metadata": {
        "id": "eogtfxKDhClK"
      },
      "outputs": [],
      "source": [
        "import keras\n",
        "from keras.layers import Dense, Dropout, Activation, Flatten, Conv2D, MaxPooling2D, Lambda, MaxPool2D, BatchNormalization\n",
        "from keras.utils import to_categorical\n",
        "from keras.preprocessing.image import ImageDataGenerator\n",
        "from keras import models, layers, optimizers\n",
        "from sklearn.model_selection import train_test_split\n",
        "from sklearn.metrics import confusion_matrix, accuracy_score\n",
        "from sklearn.utils import class_weight\n",
        "from keras.optimizers import SGD, RMSprop, Adam, Adagrad, Adadelta, RMSprop\n",
        "from keras.models import Sequential, model_from_json\n",
        "from keras.layers import Activation,Dense, Dropout, Flatten, Conv2D, MaxPool2D,MaxPooling2D,AveragePooling2D, BatchNormalization\n",
        "from keras.preprocessing.image import ImageDataGenerator\n",
        "from keras.callbacks import ReduceLROnPlateau, ModelCheckpoint\n",
        "from keras import backend as K\n",
        "from keras.applications.vgg16 import VGG16\n",
        "from keras.models import Model\n",
        "from keras.applications.inception_v3 import InceptionV3\n",
        "import os\n",
        "from glob import glob\n",
        "#import matplotlib\n",
        "#import matplotlib.pyplot as plt\n",
        "import random\n",
        "import cv2\n",
        "import pandas as pd\n",
        "import numpy as np\n",
        "#import matplotlib.gridspec as gridspec\n",
        "#import seaborn as sns\n",
        "import zlib\n",
        "import itertools\n",
        "import sklearn\n",
        "import itertools\n",
        "import scipy\n",
        "import skimage\n",
        "from skimage.transform import resize\n",
        "import csv\n",
        "from tqdm import tqdm\n",
        "from sklearn import model_selection\n",
        "from sklearn.model_selection import train_test_split, learning_curve,KFold,cross_val_score,StratifiedKFold\n",
        "from sklearn.utils import class_weight, shuffle\n",
        "from sklearn.metrics import confusion_matrix\n",
        "#from imblearn.over_sampling import RandomOverSampler\n",
        "#from imblearn.under_sampling import RandomUnderSampler\n",
        "from keras.applications.mobilenet import MobileNet\n",
        "from sklearn.metrics import roc_auc_score\n",
        "from sklearn.metrics import roc_curve\n",
        "from sklearn.metrics import auc\n",
        "from tensorflow.keras.callbacks import ModelCheckpoint\n",
        "import psutil\n",
        "from keras.callbacks import Callback, EarlyStopping, ReduceLROnPlateau, ModelCheckpoint\n",
        "import warnings\n",
        "warnings.filterwarnings(\"ignore\")\n",
        "#%matplotlib inline"
      ]
    },
    {
      "cell_type": "markdown",
      "metadata": {
        "id": "S85_a0X8hClK"
      },
      "source": [
        "Load Data"
      ]
    },
    {
      "cell_type": "code",
      "execution_count": null,
      "metadata": {
        "id": "cnrgH6aehClK"
      },
      "outputs": [],
      "source": [
        "class MetricsCheckpoint(Callback):\n",
        "  \"\"\"Callback that saves metrics after each epoch\"\"\"\n",
        "  def __init__(self, savepath):\n",
        "    super(MetricsCheckpoint, self).__init__()\n",
        "    self.savepath = savepath\n",
        "    self.history = {}\n",
        "  def on_epoch_end(self, epoch, logs=None):\n",
        "    for k, v in logs.items():\n",
        "        self.history.setdefault(k, []).append(v)\n",
        "    np.save(self.savepath, self.history)"
      ]
    },
    {
      "cell_type": "code",
      "execution_count": null,
      "metadata": {
        "id": "sxwjuMrzhClL"
      },
      "outputs": [],
      "source": [
        "imageSize=50\n",
        "train_dir = \"input/asl-alphabet/asl_alphabet_train/asl_alphabet_train/\"\n",
        "test_dir =  \"input/asl-alphabet/asl_alphabet_test/asl_alphabet_test/\"\n",
        "from tqdm import tqdm\n",
        "def get_data(folder):\n",
        "  \"\"\"\n",
        "  Load the data and labels from the given folder.\n",
        "  \"\"\"\n",
        "  X = []\n",
        "  y = []\n",
        "  for folderName in os.listdir(folder):\n",
        "    if not folderName.startswith('.'):\n",
        "      if 'A' in folderName:\n",
        "        label = 0\n",
        "      elif 'B' in folderName:\n",
        "        label = 1\n",
        "      elif 'C' in folderName:\n",
        "        label = 2\n",
        "      elif 'D' in folderName:\n",
        "        label = 3\n",
        "      elif 'E' in folderName:\n",
        "        label = 4\n",
        "      elif 'F' in folderName:\n",
        "        label = 5\n",
        "      elif 'G' in folderName:\n",
        "        label = 6\n",
        "      elif 'H' in folderName:\n",
        "        label = 7\n",
        "      elif 'I' in folderName:\n",
        "        label = 8\n",
        "      elif 'J' in folderName:\n",
        "        label = 9\n",
        "      elif 'K' in folderName:\n",
        "        label = 10\n",
        "      elif 'L' in folderName:\n",
        "        label = 11\n",
        "      elif 'M' in folderName:\n",
        "        label = 12\n",
        "      elif 'N' in folderName:\n",
        "        label = 13\n",
        "      elif 'O' in folderName:\n",
        "        label = 14\n",
        "      elif 'P' in folderName:\n",
        "        label = 15\n",
        "      elif 'Q' in folderName:\n",
        "        label = 16\n",
        "      elif 'R' in folderName:\n",
        "        label = 17\n",
        "      elif 'S' in folderName:\n",
        "        label = 18\n",
        "      elif 'T' in folderName:\n",
        "        label = 19\n",
        "      elif 'U' in folderName:\n",
        "        label = 20\n",
        "      elif 'V' in folderName:\n",
        "        label = 21\n",
        "      elif 'W' in folderName:\n",
        "        label = 22\n",
        "      elif 'X' in folderName:\n",
        "        label = 23\n",
        "      elif 'Y' in folderName:\n",
        "        label = 24\n",
        "      elif 'Z' in folderName:\n",
        "        label = 25\n",
        "      elif 'del' in folderName:\n",
        "        label = 26\n",
        "      elif 'nothing' in folderName:\n",
        "        label = 27\n",
        "      elif 'space' in folderName:\n",
        "        label = 28\n",
        "      else:\n",
        "        label = 29\n",
        "      try:\n",
        "        for image_filename in tqdm(os.listdir(folder + folderName)):\n",
        "          img_file = cv2.imread(folder + folderName + '/' + image_filename)\n",
        "          if img_file is not None:\n",
        "            # TODO: Convert the image to Nodes before loading\n",
        "            img_file = skimage.transform.resize(img_file, (imageSize, imageSize, 3))\n",
        "            img_arr = np.asarray(img_file)\n",
        "            X.append(img_arr)\n",
        "            y.append(label)\n",
        "      except:\n",
        "        img_file = cv2.imread(folder + folderName)\n",
        "        if img_file is not None:\n",
        "          img_file = skimage.transform.resize(img_file, (imageSize, imageSize, 3))\n",
        "          img_arr = np.asarray(img_file)\n",
        "          X.append(img_arr)\n",
        "          y.append(label)\n",
        "\n",
        "  X = np.asarray(X)\n",
        "  y = np.asarray(y)\n",
        "  return X,y\n",
        "\n",
        "X_test, y_test= get_data(test_dir) # Too few images\n",
        "X_train, y_train = get_data(train_dir)\n",
        "\n",
        "X_train, X_test, y_train, y_test = train_test_split(X_train, y_train, test_size=0.2)\n",
        "\n",
        "# Encode labels to hot vectors (ex : 2 -> [0,0,1,0,0,0,0,0,0,0])\n",
        "y_trainHot = to_categorical(y_train, num_classes = 29)\n",
        "y_testHot = to_categorical(y_test, num_classes = 29)"
      ]
    },
    {
      "cell_type": "code",
      "execution_count": null,
      "metadata": {
        "id": "mliIoESYhClL"
      },
      "outputs": [],
      "source": [
        "# Shuffle data to permit further subsampling\n",
        "#from tensorflow_metrics.callbacks import MetricsCheckpoint\n",
        "X_train, y_trainHot = shuffle(X_train, y_trainHot, random_state=13)\n",
        "X_test, y_testHot = shuffle(X_test, y_testHot, random_state=13)\n",
        "X_train = X_train[:30000]\n",
        "X_test = X_test[:30000]\n",
        "y_trainHot = y_trainHot[:30000]\n",
        "y_testHot = y_testHot[:30000]"
      ]
    },
    {
      "cell_type": "markdown",
      "metadata": {
        "id": "WwUUVCHPhClL"
      },
      "source": [
        "Train Model"
      ]
    },
    {
      "cell_type": "code",
      "execution_count": null,
      "metadata": {
        "id": "JO4FIiJVhClL"
      },
      "outputs": [],
      "source": [
        "map_characters1 = {0: 'A', 1: 'B', 2: 'C', 3: 'D', 4: 'E', 5: 'F', 6: 'G', 7: 'H', 8: 'I', 9: 'J', 10: 'K', 11: 'L', 12: 'M', 13: 'N', 14: 'O', 15: 'P', 16: 'Q', 17: 'R', 18: 'S', 19: 'T', 20: 'U', 21: 'V', 22: 'W', 23: 'X', 24: 'Y', 25: 'Z', 26: 'del', 27: 'nothing', 28: 'space'}\n",
        "class_weights = class_weight.compute_class_weight('balanced', classes=np.unique(y_train), y=y_train)\n",
        "# Create a dictionary of class weights\n",
        "class_weight1 = {class_idx: weight for class_idx, weight in zip(np.unique(y_train), class_weights)}\n",
        "weight_path1 = 'input/keras-pretrained-models/vgg16_weights_tf_dim_ordering_tf_kernels_notop.h5'\n",
        "weight_path2 = 'input/keras-pretrained-models/inception_v3_weights_tf_dim_ordering_tf_kernels_notop.h5'\n",
        "pretrained_model_1 = VGG16(weights = weight_path1, include_top=False, input_shape=(imageSize, imageSize, 3))\n",
        "#pretrained_model_2 = InceptionV3(weights = weight_path2, include_top=False, input_shape=(imageSize, imageSize, 3))"
      ]
    },
    {
      "cell_type": "code",
      "execution_count": null,
      "metadata": {
        "id": "MxYDXSORhClL"
      },
      "outputs": [],
      "source": [
        "from tensorflow.keras.optimizers import legacy\n",
        "\n",
        "# Replace your optimizer definition with the legacy version\n",
        "#optimizer1 = legacy.Adam(lr=0.0001)\n",
        "\n",
        "optimizer1 = keras.optimizers.Adam()\n",
        "optimizer2 = keras.optimizers.RMSprop(learning_rate=0.0001)"
      ]
    },
    {
      "cell_type": "code",
      "execution_count": null,
      "metadata": {
        "id": "Q6p-cjgWhClM"
      },
      "outputs": [],
      "source": [
        "def pretrainedNetwork(xtrain,ytrain,xtest,ytest,pretrainedmodel,pretrainedweights,classweight,numclasses,numepochs,optimizer,labels):\n",
        "  base_model = pretrained_model_1 # Topless\n",
        "  # Add top layer\n",
        "  x = base_model.output\n",
        "  x = Flatten()(x)\n",
        "  predictions = Dense(numclasses, activation='softmax')(x)\n",
        "  model = Model(inputs=base_model.input, outputs=predictions)\n",
        "  # Train top layer\n",
        "  for layer in base_model.layers:\n",
        "    layer.trainable = False\n",
        "  model.compile(loss='categorical_crossentropy', optimizer=optimizer, metrics=['accuracy'])\n",
        "  callbacks_list = [keras.callbacks.EarlyStopping(monitor='validation_accuracy', patience=3, verbose=1)]\n",
        "  model.summary()\n",
        "  # Fit model\n",
        "  #optimizer1.build(model.trainable_variables)\n",
        "  history = model.fit(xtrain,ytrain, epochs=numepochs, class_weight=classweight, validation_data=(xtest,ytest), verbose=1,callbacks = [MetricsCheckpoint('logs')])\n",
        "  # Evaluate model\n",
        "  score = model.evaluate(xtest,ytest, verbose=0)\n",
        "  print('\\nKeras CNN - accuracy:', score[1], '\\n')\n",
        "  y_pred = model.predict(xtest)\n",
        "  print('\\n', sklearn.metrics.classification_report(np.where(ytest > 0)[1], np.argmax(y_pred, axis=1), target_names=list(labels.values())), sep='')\n",
        "  Y_pred_classes = np.argmax(y_pred,axis = 1)\n",
        "  Y_true = np.argmax(ytest,axis = 1)\n",
        "  confusion_mtx = confusion_matrix(Y_true, Y_pred_classes)\n",
        "  return model\n"
      ]
    },
    {
      "cell_type": "code",
      "execution_count": null,
      "metadata": {
        "id": "Y1YZaI3IhClM"
      },
      "outputs": [],
      "source": [
        "trained_model = pretrainedNetwork(X_train, y_trainHot, X_test, y_testHot,pretrained_model_1,weight_path1,class_weight1,29,10,optimizer1,map_characters1)"
      ]
    },
    {
      "cell_type": "code",
      "execution_count": null,
      "metadata": {
        "id": "aZtJ5r_NhClM"
      },
      "outputs": [],
      "source": [
        "trained_model.save('new_model.h5')"
      ]
    },
    {
      "cell_type": "markdown",
      "metadata": {
        "id": "rMlGD2hehClM"
      },
      "source": [
        "Test an Image"
      ]
    },
    {
      "cell_type": "code",
      "execution_count": null,
      "metadata": {
        "id": "YJz3ATeohClL"
      },
      "outputs": [],
      "source": [
        "## TODO: convert each jpg to nodes in the load_data function"
      ]
    }
  ],
  "metadata": {
    "kernelspec": {
      "display_name": "my_kernel",
      "language": "python",
      "name": "my_kernel"
    },
    "language_info": {
      "codemirror_mode": {
        "name": "ipython",
        "version": 3
      },
      "file_extension": ".py",
      "mimetype": "text/x-python",
      "name": "python",
      "nbconvert_exporter": "python",
      "pygments_lexer": "ipython3",
      "version": "3.11.7"
    },
    "colab": {
      "provenance": []
    }
  },
  "nbformat": 4,
  "nbformat_minor": 0
}