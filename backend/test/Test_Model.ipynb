{
  "nbformat": 4,
  "nbformat_minor": 0,
  "metadata": {
    "colab": {
      "provenance": []
    },
    "kernelspec": {
      "name": "python3",
      "display_name": "Python 3"
    },
    "language_info": {
      "name": "python"
    }
  },
  "cells": [
    {
      "cell_type": "code",
      "execution_count": null,
      "metadata": {
        "colab": {
          "base_uri": "https://localhost:8080/",
          "height": 1000
        },
        "id": "UgYyNPdANofB",
        "outputId": "9b0c4f56-3c88-415d-ae60-33a5fe164ede"
      },
      "outputs": [
        {
          "output_type": "stream",
          "name": "stdout",
          "text": [
            "Cloning into 'mediapipe-python'...\n",
            "remote: Enumerating objects: 45, done.\u001b[K\n",
            "remote: Counting objects: 100% (45/45), done.\u001b[K\n",
            "remote: Compressing objects: 100% (44/44), done.\u001b[K\n",
            "remote: Total 45 (delta 14), reused 0 (delta 0), pack-reused 0\u001b[K\n",
            "Receiving objects: 100% (45/45), 31.45 MiB | 23.10 MiB/s, done.\n",
            "Resolving deltas: 100% (14/14), done.\n",
            "Collecting mediapipe\n",
            "  Downloading mediapipe-0.10.9-cp310-cp310-manylinux_2_17_x86_64.manylinux2014_x86_64.whl (34.5 MB)\n",
            "\u001b[2K     \u001b[90m━━━━━━━━━━━━━━━━━━━━━━━━━━━━━━━━━━━━━━━━\u001b[0m \u001b[32m34.5/34.5 MB\u001b[0m \u001b[31m12.9 MB/s\u001b[0m eta \u001b[36m0:00:00\u001b[0m\n",
            "\u001b[?25hRequirement already satisfied: absl-py in /usr/local/lib/python3.10/dist-packages (from mediapipe) (1.4.0)\n",
            "Requirement already satisfied: attrs>=19.1.0 in /usr/local/lib/python3.10/dist-packages (from mediapipe) (23.2.0)\n",
            "Requirement already satisfied: flatbuffers>=2.0 in /usr/local/lib/python3.10/dist-packages (from mediapipe) (23.5.26)\n",
            "Requirement already satisfied: matplotlib in /usr/local/lib/python3.10/dist-packages (from mediapipe) (3.7.1)\n",
            "Requirement already satisfied: numpy in /usr/local/lib/python3.10/dist-packages (from mediapipe) (1.23.5)\n",
            "Requirement already satisfied: opencv-contrib-python in /usr/local/lib/python3.10/dist-packages (from mediapipe) (4.8.0.76)\n",
            "Requirement already satisfied: protobuf<4,>=3.11 in /usr/local/lib/python3.10/dist-packages (from mediapipe) (3.20.3)\n",
            "Collecting sounddevice>=0.4.4 (from mediapipe)\n",
            "  Downloading sounddevice-0.4.6-py3-none-any.whl (31 kB)\n",
            "Requirement already satisfied: CFFI>=1.0 in /usr/local/lib/python3.10/dist-packages (from sounddevice>=0.4.4->mediapipe) (1.16.0)\n",
            "Requirement already satisfied: contourpy>=1.0.1 in /usr/local/lib/python3.10/dist-packages (from matplotlib->mediapipe) (1.2.0)\n",
            "Requirement already satisfied: cycler>=0.10 in /usr/local/lib/python3.10/dist-packages (from matplotlib->mediapipe) (0.12.1)\n",
            "Requirement already satisfied: fonttools>=4.22.0 in /usr/local/lib/python3.10/dist-packages (from matplotlib->mediapipe) (4.47.2)\n",
            "Requirement already satisfied: kiwisolver>=1.0.1 in /usr/local/lib/python3.10/dist-packages (from matplotlib->mediapipe) (1.4.5)\n",
            "Requirement already satisfied: packaging>=20.0 in /usr/local/lib/python3.10/dist-packages (from matplotlib->mediapipe) (23.2)\n",
            "Requirement already satisfied: pillow>=6.2.0 in /usr/local/lib/python3.10/dist-packages (from matplotlib->mediapipe) (9.4.0)\n",
            "Requirement already satisfied: pyparsing>=2.3.1 in /usr/local/lib/python3.10/dist-packages (from matplotlib->mediapipe) (3.1.1)\n",
            "Requirement already satisfied: python-dateutil>=2.7 in /usr/local/lib/python3.10/dist-packages (from matplotlib->mediapipe) (2.8.2)\n",
            "Requirement already satisfied: pycparser in /usr/local/lib/python3.10/dist-packages (from CFFI>=1.0->sounddevice>=0.4.4->mediapipe) (2.21)\n",
            "Requirement already satisfied: six>=1.5 in /usr/local/lib/python3.10/dist-packages (from python-dateutil>=2.7->matplotlib->mediapipe) (1.16.0)\n",
            "Installing collected packages: sounddevice, mediapipe\n",
            "Successfully installed mediapipe-0.10.9 sounddevice-0.4.6\n",
            "Collecting PyQt5\n",
            "  Downloading PyQt5-5.15.10-cp37-abi3-manylinux_2_17_x86_64.whl (8.2 MB)\n",
            "\u001b[2K     \u001b[90m━━━━━━━━━━━━━━━━━━━━━━━━━━━━━━━━━━━━━━━━\u001b[0m \u001b[32m8.2/8.2 MB\u001b[0m \u001b[31m12.5 MB/s\u001b[0m eta \u001b[36m0:00:00\u001b[0m\n",
            "\u001b[?25hCollecting PyQt5-sip<13,>=12.13 (from PyQt5)\n",
            "  Downloading PyQt5_sip-12.13.0-cp310-cp310-manylinux_2_5_x86_64.manylinux1_x86_64.whl (338 kB)\n",
            "\u001b[2K     \u001b[90m━━━━━━━━━━━━━━━━━━━━━━━━━━━━━━━━━━━━━━━━\u001b[0m \u001b[32m338.1/338.1 kB\u001b[0m \u001b[31m17.6 MB/s\u001b[0m eta \u001b[36m0:00:00\u001b[0m\n",
            "\u001b[?25hCollecting PyQt5-Qt5>=5.15.2 (from PyQt5)\n",
            "  Downloading PyQt5_Qt5-5.15.2-py3-none-manylinux2014_x86_64.whl (59.9 MB)\n",
            "\u001b[2K     \u001b[90m━━━━━━━━━━━━━━━━━━━━━━━━━━━━━━━━━━━━━━━━\u001b[0m \u001b[32m59.9/59.9 MB\u001b[0m \u001b[31m9.5 MB/s\u001b[0m eta \u001b[36m0:00:00\u001b[0m\n",
            "\u001b[?25hInstalling collected packages: PyQt5-Qt5, PyQt5-sip, PyQt5\n",
            "Successfully installed PyQt5-5.15.10 PyQt5-Qt5-5.15.2 PyQt5-sip-12.13.0\n",
            "Collecting ipython==7.32.0\n",
            "  Downloading ipython-7.32.0-py3-none-any.whl (793 kB)\n",
            "\u001b[2K     \u001b[90m━━━━━━━━━━━━━━━━━━━━━━━━━━━━━━━━━━━━━━━━\u001b[0m \u001b[32m793.9/793.9 kB\u001b[0m \u001b[31m8.0 MB/s\u001b[0m eta \u001b[36m0:00:00\u001b[0m\n",
            "\u001b[?25hRequirement already satisfied: setuptools>=18.5 in /usr/local/lib/python3.10/dist-packages (from ipython==7.32.0) (67.7.2)\n",
            "Collecting jedi>=0.16 (from ipython==7.32.0)\n",
            "  Downloading jedi-0.19.1-py2.py3-none-any.whl (1.6 MB)\n",
            "\u001b[2K     \u001b[90m━━━━━━━━━━━━━━━━━━━━━━━━━━━━━━━━━━━━━━━━\u001b[0m \u001b[32m1.6/1.6 MB\u001b[0m \u001b[31m13.5 MB/s\u001b[0m eta \u001b[36m0:00:00\u001b[0m\n",
            "\u001b[?25hRequirement already satisfied: decorator in /usr/local/lib/python3.10/dist-packages (from ipython==7.32.0) (4.4.2)\n",
            "Requirement already satisfied: pickleshare in /usr/local/lib/python3.10/dist-packages (from ipython==7.32.0) (0.7.5)\n",
            "Requirement already satisfied: traitlets>=4.2 in /usr/local/lib/python3.10/dist-packages (from ipython==7.32.0) (5.7.1)\n",
            "Requirement already satisfied: prompt-toolkit!=3.0.0,!=3.0.1,<3.1.0,>=2.0.0 in /usr/local/lib/python3.10/dist-packages (from ipython==7.32.0) (3.0.43)\n",
            "Requirement already satisfied: pygments in /usr/local/lib/python3.10/dist-packages (from ipython==7.32.0) (2.16.1)\n",
            "Requirement already satisfied: backcall in /usr/local/lib/python3.10/dist-packages (from ipython==7.32.0) (0.2.0)\n",
            "Requirement already satisfied: matplotlib-inline in /usr/local/lib/python3.10/dist-packages (from ipython==7.32.0) (0.1.6)\n",
            "Requirement already satisfied: pexpect>4.3 in /usr/local/lib/python3.10/dist-packages (from ipython==7.32.0) (4.9.0)\n",
            "Requirement already satisfied: parso<0.9.0,>=0.8.3 in /usr/local/lib/python3.10/dist-packages (from jedi>=0.16->ipython==7.32.0) (0.8.3)\n",
            "Requirement already satisfied: ptyprocess>=0.5 in /usr/local/lib/python3.10/dist-packages (from pexpect>4.3->ipython==7.32.0) (0.7.0)\n",
            "Requirement already satisfied: wcwidth in /usr/local/lib/python3.10/dist-packages (from prompt-toolkit!=3.0.0,!=3.0.1,<3.1.0,>=2.0.0->ipython==7.32.0) (0.2.13)\n",
            "Installing collected packages: jedi, ipython\n",
            "  Attempting uninstall: ipython\n",
            "    Found existing installation: ipython 7.34.0\n",
            "    Uninstalling ipython-7.34.0:\n",
            "      Successfully uninstalled ipython-7.34.0\n",
            "\u001b[31mERROR: pip's dependency resolver does not currently take into account all the packages that are installed. This behaviour is the source of the following dependency conflicts.\n",
            "google-colab 1.0.0 requires ipython==7.34.0, but you have ipython 7.32.0 which is incompatible.\u001b[0m\u001b[31m\n",
            "\u001b[0mSuccessfully installed ipython-7.32.0 jedi-0.19.1\n"
          ]
        },
        {
          "output_type": "display_data",
          "data": {
            "application/vnd.colab-display-data+json": {
              "pip_warning": {
                "packages": [
                  "IPython"
                ]
              }
            }
          },
          "metadata": {}
        },
        {
          "output_type": "stream",
          "name": "stdout",
          "text": [
            "Collecting onnxruntime\n",
            "  Downloading onnxruntime-1.17.0-cp310-cp310-manylinux_2_27_x86_64.manylinux_2_28_x86_64.whl (6.8 MB)\n",
            "\u001b[2K     \u001b[90m━━━━━━━━━━━━━━━━━━━━━━━━━━━━━━━━━━━━━━━━\u001b[0m \u001b[32m6.8/6.8 MB\u001b[0m \u001b[31m15.5 MB/s\u001b[0m eta \u001b[36m0:00:00\u001b[0m\n",
            "\u001b[?25hCollecting coloredlogs (from onnxruntime)\n",
            "  Downloading coloredlogs-15.0.1-py2.py3-none-any.whl (46 kB)\n",
            "\u001b[2K     \u001b[90m━━━━━━━━━━━━━━━━━━━━━━━━━━━━━━━━━━━━━━━━\u001b[0m \u001b[32m46.0/46.0 kB\u001b[0m \u001b[31m4.5 MB/s\u001b[0m eta \u001b[36m0:00:00\u001b[0m\n",
            "\u001b[?25hRequirement already satisfied: flatbuffers in /usr/local/lib/python3.10/dist-packages (from onnxruntime) (23.5.26)\n",
            "Requirement already satisfied: numpy>=1.21.6 in /usr/local/lib/python3.10/dist-packages (from onnxruntime) (1.23.5)\n",
            "Requirement already satisfied: packaging in /usr/local/lib/python3.10/dist-packages (from onnxruntime) (23.2)\n",
            "Requirement already satisfied: protobuf in /usr/local/lib/python3.10/dist-packages (from onnxruntime) (3.20.3)\n",
            "Requirement already satisfied: sympy in /usr/local/lib/python3.10/dist-packages (from onnxruntime) (1.12)\n",
            "Collecting humanfriendly>=9.1 (from coloredlogs->onnxruntime)\n",
            "  Downloading humanfriendly-10.0-py2.py3-none-any.whl (86 kB)\n",
            "\u001b[2K     \u001b[90m━━━━━━━━━━━━━━━━━━━━━━━━━━━━━━━━━━━━━━━━\u001b[0m \u001b[32m86.8/86.8 kB\u001b[0m \u001b[31m9.0 MB/s\u001b[0m eta \u001b[36m0:00:00\u001b[0m\n",
            "\u001b[?25hRequirement already satisfied: mpmath>=0.19 in /usr/local/lib/python3.10/dist-packages (from sympy->onnxruntime) (1.3.0)\n",
            "Installing collected packages: humanfriendly, coloredlogs, onnxruntime\n",
            "Successfully installed coloredlogs-15.0.1 humanfriendly-10.0 onnxruntime-1.17.0\n"
          ]
        }
      ],
      "source": [
        "!git clone https://github.com/AssemblyAI-Examples/mediapipe-python.git\n",
        "!pip install mediapipe\n",
        "!pip install PyQt5\n",
        "!pip install ipython==7.32.0\n",
        "!pip install onnxruntime"
      ]
    },
    {
      "cell_type": "code",
      "source": [
        "import cv2 as cv\n",
        "from mediapipe import solutions as mp\n",
        "import time\n",
        "import numpy as np\n",
        "import onnxruntime as ort\n",
        "from tensorflow.keras.models import load_model\n",
        "from PIL import Image\n",
        "import math\n"
      ],
      "metadata": {
        "id": "orzuUAU_Nt1P"
      },
      "execution_count": null,
      "outputs": []
    },
    {
      "cell_type": "markdown",
      "source": [
        "Prepare Image"
      ],
      "metadata": {
        "id": "NQbW6rLlZcAT"
      }
    },
    {
      "cell_type": "code",
      "source": [
        "def preprocess_image(image):\n",
        "    hands = mp.hands.Hands()\n",
        "\n",
        "    # Convert the image to RGB format\n",
        "    image_rgb = cv.cvtColor(image, cv.COLOR_BGR2RGB)\n",
        "\n",
        "    try:\n",
        "        results = hands.process(image_rgb)\n",
        "        if results.multi_hand_landmarks:\n",
        "            x_values = []  # List to store X values of landmarks\n",
        "            y_values = []\n",
        "            for hand_landmarks in results.multi_hand_landmarks:\n",
        "                for landmark_id, landmark in enumerate(hand_landmarks.landmark):\n",
        "                    # Extracting X, Y, Z coordinates of each landmark\n",
        "                    x = int(landmark.x * image.shape[1])\n",
        "                    x_values.append(x)\n",
        "                    y = int(landmark.y * image.shape[0])\n",
        "                    y_values.append(y)\n",
        "                    z = landmark.z  # Z coordinate may not be available in all cases\n",
        "\n",
        "    except Exception as err:\n",
        "        print(f\"Error processing the image: {err}\")\n",
        "\n",
        "    mean_x = sum(x_values) / len(x_values)\n",
        "    mean_y = sum(y_values) / len(y_values)\n",
        "\n",
        "    furthest_distance = 0\n",
        "    for x, y in zip(x_values, y_values):\n",
        "        distance = math.sqrt((x - mean_x)**2 + (y - mean_y)**2)\n",
        "        furthest_distance = max(furthest_distance, distance)\n",
        "\n",
        "    # Calculate bounding box dimensions\n",
        "    left = int(mean_x - furthest_distance - 10)\n",
        "    top = int(mean_y - furthest_distance - 10)\n",
        "    right = int(mean_x + furthest_distance + 10)\n",
        "    bottom = int(mean_y + furthest_distance + 10)\n",
        "\n",
        "    # Crop the image\n",
        "    cropped_image = image[top:bottom, left:right]\n",
        "\n",
        "    # Resize the image\n",
        "    resized_image = cv.resize(image, (50, 50))\n",
        "\n",
        "    # Convert to Array\n",
        "    img_array = np.expand_dims(resized_image, axis=0)\n",
        "\n",
        "    # Normalize pixel values from 0 to 1\n",
        "    img_array = img_array / 255.0\n",
        "\n",
        "    return img_array\n"
      ],
      "metadata": {
        "id": "IAJOWKyuY-OQ"
      },
      "execution_count": null,
      "outputs": []
    },
    {
      "cell_type": "code",
      "source": [
        "# Path to image to test\n",
        "image_path = \"B.jpg\"\n",
        "test_img = cv.imread(image_path)\n",
        "input_image = preprocess_image(test_img)"
      ],
      "metadata": {
        "id": "KC2xD9q9c3Zm"
      },
      "execution_count": null,
      "outputs": []
    },
    {
      "cell_type": "markdown",
      "source": [
        "Test Image\n",
        "\n"
      ],
      "metadata": {
        "id": "uVj07PyPZUv-"
      }
    },
    {
      "cell_type": "code",
      "source": [
        "model = load_model('final_model.h5')\n",
        "predictions = model.predict(input_image)\n",
        "class_index = np.argmax(predictions)\n",
        "\n",
        "print(f\"Predicted Class Index: {class_index}\")\n",
        "map_characters1 = {0: 'A', 1: 'B', 2: 'C', 3: 'D', 4: 'E', 5: 'F', 6: 'G', 7: 'H', 8: 'I', 9: 'J', 10: 'K', 11: 'L', 12: 'M', 13: 'N', 14: 'O', 15: 'P', 16: 'Q', 17: 'R', 18: 'S', 19: 'T', 20: 'U', 21: 'V', 22: 'W', 23: 'X', 24: 'Y', 25: 'Z', 26: 'del', 27: 'nothing', 28: 'space'}\n",
        "print(map_characters1[class_index])\n",
        "combined_dict = dict(zip(map_characters1.values(), predictions[0]))\n",
        "\n",
        "# Sort\n",
        "sorted_items = sorted(combined_dict.items(), key=lambda x: x[1], reverse=True)\n",
        "print(sorted_items)\n",
        "# Print the top 3 items\n",
        "top_3_items = sorted_items[:3]\n",
        "for key, value in top_3_items:\n",
        "  print(f\"{key}: {value}\")\n",
        "\n",
        "correct_letter = \"B\"\n",
        "letters = [key for key, _ in top_3_items]\n",
        "correct = correct_letter in letters\n",
        "\n",
        "print(correct)\n"
      ],
      "metadata": {
        "colab": {
          "base_uri": "https://localhost:8080/"
        },
        "id": "KBMRm5m-ODyI",
        "outputId": "044643d5-8d24-4f5d-848c-2fc8745a8369"
      },
      "execution_count": null,
      "outputs": [
        {
          "output_type": "stream",
          "name": "stdout",
          "text": [
            "1/1 [==============================] - 0s 317ms/step\n",
            "Predicted Class Index: 13\n",
            "N\n",
            "[('N', 0.9251515), ('M', 0.04631616), ('E', 0.026110524), ('I', 0.00078997994), ('D', 0.00063590857), ('T', 0.0003558675), ('V', 0.0003491655), ('P', 8.6636355e-05), ('S', 6.969405e-05), ('space', 4.922691e-05), ('G', 3.1507145e-05), ('O', 2.8487799e-05), ('R', 1.0410684e-05), ('B', 8.319084e-06), ('L', 2.0140537e-06), ('nothing', 1.4477303e-06), ('K', 9.3799326e-07), ('X', 8.0206786e-07), ('W', 6.104232e-07), ('A', 3.2597256e-07), ('Z', 2.6067931e-07), ('U', 6.209043e-08), ('F', 1.7504929e-08), ('J', 5.223402e-09), ('Q', 3.711153e-09), ('C', 2.806035e-10), ('del', 2.6406302e-10), ('Y', 2.4872932e-11), ('H', 1.3908952e-15)]\n",
            "N: 0.925151526927948\n",
            "M: 0.04631616175174713\n",
            "E: 0.02611052431166172\n",
            "False\n"
          ]
        }
      ]
    },
    {
      "cell_type": "markdown",
      "source": [
        "Find Nodes"
      ],
      "metadata": {
        "id": "QWWStrjdYTZK"
      }
    },
    {
      "cell_type": "code",
      "source": [
        "def find_nodes(image):\n",
        "  mp_hands = mp.solutions.hands\n",
        "  my_hand_drawing = mp.solutions.drawing_utils\n",
        "\n",
        "  hands = mp_hands.Hands()\n",
        "\n",
        "  # Flip the image\n",
        "  # Have to switch colors because openCV color scheme is BGR not RGB\n",
        "  image_rgb = cv.cvtColor(image, cv.COLOR_BGR2RGB)\n",
        "\n",
        "  # Store the results\n",
        "  start_time = time.time()\n",
        "  try:\n",
        "      results = hands.process(image_rgb)\n",
        "  except Exception as err:\n",
        "      print(f\"Error processing the image: {err}\")\n",
        "  height, width, _ = image.shape\n",
        "\n",
        "  # Create an empty image\n",
        "  new_image = np.zeros((height, width, 3), dtype=np.uint8)  # Replace height and width with the desired image dimensions\n",
        "\n",
        "  # Draw landmarks on the image\n",
        "  for landmarks in results.multi_hand_landmarks:\n",
        "          #Adds the landmarks (lines) on the hands\n",
        "          my_hand_drawing.draw_landmarks(\n",
        "          new_image,\n",
        "          landmarks, mp_hands.HAND_CONNECTIONS\n",
        "      )\n",
        "\n",
        "  #new_image = cv.flip(new_image, 1)\n",
        "\n",
        "  image_bgr = cv.cvtColor(cv.flip(image_rgb, 1), cv.COLOR_RGB2BGR)\n",
        "\n",
        "  return new_image"
      ],
      "metadata": {
        "id": "n09A5gsqQQeT"
      },
      "execution_count": null,
      "outputs": []
    }
  ]
}